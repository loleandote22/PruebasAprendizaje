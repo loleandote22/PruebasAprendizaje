{
  "cells": [
    {
      "cell_type": "markdown",
      "metadata": {
        "id": "N3rkRdoEh48C"
      },
      "source": [
        "## Datos\n",
        "En este notebook, se desea cargar datos para entrenar un modelo de machine learning que permita predecir la valoración de vinos. Utilizaremos un conjunto de datos que contiene diversas características de los vinos, como la acidez, el contenido de azúcar, el pH, entre otros, y la valoración que han recibido. A partir de estos datos, entrenaremos un modelo que pueda predecir la valoración de un vino basado en sus características."
      ]
    },
    {
      "cell_type": "markdown",
      "metadata": {
        "id": "W-GpSDHJh48D"
      },
      "source": [
        "### Importar la libreria\n",
        "Primero hay que descargar la libreria ucimlrepo que contiene datos para realizar entrenamiento automático"
      ]
    },
    {
      "cell_type": "code",
      "execution_count": 2,
      "metadata": {
        "vscode": {
          "languageId": "powershell"
        },
        "colab": {
          "base_uri": "https://localhost:8080/"
        },
        "id": "iXKMxYzsh48D",
        "outputId": "8203d6f3-1c26-42bb-a13a-4f41b6f66040"
      },
      "outputs": [
        {
          "output_type": "stream",
          "name": "stdout",
          "text": [
            "Collecting ucimlrepo\n",
            "  Downloading ucimlrepo-0.0.7-py3-none-any.whl.metadata (5.5 kB)\n",
            "Requirement already satisfied: pandas>=1.0.0 in /usr/local/lib/python3.11/dist-packages (from ucimlrepo) (2.2.2)\n",
            "Requirement already satisfied: certifi>=2020.12.5 in /usr/local/lib/python3.11/dist-packages (from ucimlrepo) (2025.1.31)\n",
            "Requirement already satisfied: numpy>=1.23.2 in /usr/local/lib/python3.11/dist-packages (from pandas>=1.0.0->ucimlrepo) (1.26.4)\n",
            "Requirement already satisfied: python-dateutil>=2.8.2 in /usr/local/lib/python3.11/dist-packages (from pandas>=1.0.0->ucimlrepo) (2.8.2)\n",
            "Requirement already satisfied: pytz>=2020.1 in /usr/local/lib/python3.11/dist-packages (from pandas>=1.0.0->ucimlrepo) (2025.1)\n",
            "Requirement already satisfied: tzdata>=2022.7 in /usr/local/lib/python3.11/dist-packages (from pandas>=1.0.0->ucimlrepo) (2025.1)\n",
            "Requirement already satisfied: six>=1.5 in /usr/local/lib/python3.11/dist-packages (from python-dateutil>=2.8.2->pandas>=1.0.0->ucimlrepo) (1.17.0)\n",
            "Downloading ucimlrepo-0.0.7-py3-none-any.whl (8.0 kB)\n",
            "Installing collected packages: ucimlrepo\n",
            "Successfully installed ucimlrepo-0.0.7\n"
          ]
        }
      ],
      "source": [
        "pip install ucimlrepo"
      ]
    },
    {
      "cell_type": "markdown",
      "metadata": {
        "id": "_gZwZSW1h48E"
      },
      "source": [
        "### Cargar los datos\n",
        "Y para cargarlos desde Python, puede usarse el siguiente código:"
      ]
    },
    {
      "cell_type": "code",
      "execution_count": 4,
      "metadata": {
        "colab": {
          "base_uri": "https://localhost:8080/"
        },
        "id": "tZ2_eOSMh48E",
        "outputId": "6f3b1dc2-7396-4ba8-b7f1-737b267c479a"
      },
      "outputs": [
        {
          "output_type": "stream",
          "name": "stdout",
          "text": [
            "{'uci_id': 186, 'name': 'Wine Quality', 'repository_url': 'https://archive.ics.uci.edu/dataset/186/wine+quality', 'data_url': 'https://archive.ics.uci.edu/static/public/186/data.csv', 'abstract': 'Two datasets are included, related to red and white vinho verde wine samples, from the north of Portugal. The goal is to model wine quality based on physicochemical tests (see [Cortez et al., 2009], http://www3.dsi.uminho.pt/pcortez/wine/).', 'area': 'Business', 'tasks': ['Classification', 'Regression'], 'characteristics': ['Multivariate'], 'num_instances': 4898, 'num_features': 11, 'feature_types': ['Real'], 'demographics': [], 'target_col': ['quality'], 'index_col': None, 'has_missing_values': 'no', 'missing_values_symbol': None, 'year_of_dataset_creation': 2009, 'last_updated': 'Wed Nov 15 2023', 'dataset_doi': '10.24432/C56S3T', 'creators': ['Paulo Cortez', 'A. Cerdeira', 'F. Almeida', 'T. Matos', 'J. Reis'], 'intro_paper': {'ID': 252, 'type': 'NATIVE', 'title': 'Modeling wine preferences by data mining from physicochemical properties', 'authors': 'P. Cortez, A. Cerdeira, Fernando Almeida, Telmo Matos, J. Reis', 'venue': 'Decision Support Systems', 'year': 2009, 'journal': None, 'DOI': None, 'URL': 'https://www.semanticscholar.org/paper/Modeling-wine-preferences-by-data-mining-from-Cortez-Cerdeira/bf15a0ccc14ac1deb5cea570c870389c16be019c', 'sha': None, 'corpus': None, 'arxiv': None, 'mag': None, 'acl': None, 'pmid': None, 'pmcid': None}, 'additional_info': {'summary': 'The two datasets are related to red and white variants of the Portuguese \"Vinho Verde\" wine. For more details, consult: http://www.vinhoverde.pt/en/ or the reference [Cortez et al., 2009].  Due to privacy and logistic issues, only physicochemical (inputs) and sensory (the output) variables are available (e.g. there is no data about grape types, wine brand, wine selling price, etc.).\\n\\nThese datasets can be viewed as classification or regression tasks.  The classes are ordered and not balanced (e.g. there are many more normal wines than excellent or poor ones). Outlier detection algorithms could be used to detect the few excellent or poor wines. Also, we are not sure if all input variables are relevant. So it could be interesting to test feature selection methods.\\n', 'purpose': None, 'funded_by': None, 'instances_represent': None, 'recommended_data_splits': None, 'sensitive_data': None, 'preprocessing_description': None, 'variable_info': 'For more information, read [Cortez et al., 2009].\\r\\nInput variables (based on physicochemical tests):\\r\\n   1 - fixed acidity\\r\\n   2 - volatile acidity\\r\\n   3 - citric acid\\r\\n   4 - residual sugar\\r\\n   5 - chlorides\\r\\n   6 - free sulfur dioxide\\r\\n   7 - total sulfur dioxide\\r\\n   8 - density\\r\\n   9 - pH\\r\\n   10 - sulphates\\r\\n   11 - alcohol\\r\\nOutput variable (based on sensory data): \\r\\n   12 - quality (score between 0 and 10)', 'citation': None}}\n",
            "                    name     role         type demographic  \\\n",
            "0          fixed_acidity  Feature   Continuous        None   \n",
            "1       volatile_acidity  Feature   Continuous        None   \n",
            "2            citric_acid  Feature   Continuous        None   \n",
            "3         residual_sugar  Feature   Continuous        None   \n",
            "4              chlorides  Feature   Continuous        None   \n",
            "5    free_sulfur_dioxide  Feature   Continuous        None   \n",
            "6   total_sulfur_dioxide  Feature   Continuous        None   \n",
            "7                density  Feature   Continuous        None   \n",
            "8                     pH  Feature   Continuous        None   \n",
            "9              sulphates  Feature   Continuous        None   \n",
            "10               alcohol  Feature   Continuous        None   \n",
            "11               quality   Target      Integer        None   \n",
            "12                 color    Other  Categorical        None   \n",
            "\n",
            "               description units missing_values  \n",
            "0                     None  None             no  \n",
            "1                     None  None             no  \n",
            "2                     None  None             no  \n",
            "3                     None  None             no  \n",
            "4                     None  None             no  \n",
            "5                     None  None             no  \n",
            "6                     None  None             no  \n",
            "7                     None  None             no  \n",
            "8                     None  None             no  \n",
            "9                     None  None             no  \n",
            "10                    None  None             no  \n",
            "11  score between 0 and 10  None             no  \n",
            "12            red or white  None             no  \n",
            "None\n"
          ]
        }
      ],
      "source": [
        "from ucimlrepo import fetch_ucirepo\n",
        "# Descarga del dataset\n",
        "wine_quality = fetch_ucirepo(id=186)\n",
        "# Datos brutos en formato Dataframe de pandas\n",
        "X = wine_quality.data.features\n",
        "y = wine_quality.data.targets\n",
        "#Metadatos\n",
        "print(wine_quality.metadata)\n",
        "#Información de lasvariables\n",
        "print(wine_quality.variables)\n",
        "print(wine_quality.data.shape)"
      ]
    },
    {
      "cell_type": "markdown",
      "source": [
        "### Análisis de los datos\n"
      ],
      "metadata": {
        "id": "CMgEht0sr8eR"
      }
    },
    {
      "cell_type": "markdown",
      "source": [
        "## Elección de algoritmo\n"
      ],
      "metadata": {
        "id": "518jUVMUjmBK"
      }
    },
    {
      "cell_type": "markdown",
      "source": [
        "### Regresión\n",
        " La regresión es la parte del aprendizaje supervisado que se ocupa de la predicción de valores numéricos\n",
        " continuos. En este caso, el objetivo del algoritmo es inferir las relaciones entre las variables, que se conocen\n",
        " previamente y que permiten ofrecer una predicción sobre la salida requerida.\n",
        "Fuente ![Cibeles](https://www.bing.com/ck/a?!&&p=d85d0526756d0ef01d139e11e7dbf9ef1d0eba8518dd93a6faf3ff78199f7e32JmltdHM9MTc0MDYxNDQwMA&ptn=3&ver=2&hsh=4&fclid=386d077d-cf62-6191-05cd-13b4cedb6050&psq=cibeles&u=a1aHR0cHM6Ly9lcy53aWtpcGVkaWEub3JnL3dpa2kvQ2liZWxlcw&ntb=1), en realidad Tema 2 Diapositiva 13\n",
        "#### SVM(LinearSVR) (El mejor según la diapositiva 14 del tema 2)\n",
        "#### KNN\n",
        "#### Decision Tree\n",
        "#### Multi Output\n"
      ],
      "metadata": {
        "id": "qmHSjHA0k_iR"
      }
    },
    {
      "cell_type": "markdown",
      "source": [
        "### Clasificación\n",
        "La variable a predecir tiene una naturaleza cualitativa y por\n",
        " tanto lo que queremos averiguar es a qué grupo, clase o categoría pertenece\n",
        " el objeto/sujeto con un vector de características.\n",
        "#### Naive bayes(El mejor siguiendo la diapositiva 14 del tema 2) GausianNB\n",
        "#### SVM (LinearSVC)\n",
        "#### KNN\n",
        "#### Desicion Tree\n",
        "#### Multi class\n",
        "#### Multi Output"
      ],
      "metadata": {
        "id": "sY_RftXulB0q"
      }
    },
    {
      "cell_type": "markdown",
      "source": [
        "## Evaluación"
      ],
      "metadata": {
        "id": "VeGljjittlQa"
      }
    },
    {
      "cell_type": "markdown",
      "source": [
        "## Comparación\n"
      ],
      "metadata": {
        "id": "u5Z77a9GtoEV"
      }
    }
  ],
  "metadata": {
    "language_info": {
      "name": "python"
    },
    "colab": {
      "provenance": []
    },
    "kernelspec": {
      "name": "python3",
      "display_name": "Python 3"
    }
  },
  "nbformat": 4,
  "nbformat_minor": 0
}