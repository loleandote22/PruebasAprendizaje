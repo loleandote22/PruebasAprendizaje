{
 "cells": [
  {
   "cell_type": "markdown",
   "id": "e9274794",
   "metadata": {},
   "source": [
    "# Imports"
   ]
  },
  {
   "cell_type": "code",
   "execution_count": null,
   "id": "6f877913",
   "metadata": {},
   "outputs": [
    {
     "ename": "",
     "evalue": "",
     "output_type": "error",
     "traceback": [
      "\u001b[1;31mLa ejecución de celdas con 'Python 3.10.11' requiere el paquete ipykernel.\n",
      "\u001b[1;31m<a href='command:jupyter.createPythonEnvAndSelectController'>Crear un entorno de Python</a> con los paquetes necesarios.\n",
      "\u001b[1;31mO instale \"ipykernel\" mediante el comando: \"c:/Users/alfos/AppData/Local/Microsoft/WindowsApps/python3.10.exe -m pip install ipykernel -U --user --force-reinstall\""
     ]
    }
   ],
   "source": [
    "import pandas as pd\n",
    "import numpy as np\n",
    "\n",
    "import matplotlib.pyplot as plt\n",
    "import seaborn as sns\n",
    "\n",
    "import os"
   ]
  },
  {
   "cell_type": "markdown",
   "id": "f516d6e3",
   "metadata": {},
   "source": [
    "# Carga datos"
   ]
  },
  {
   "cell_type": "code",
   "execution_count": null,
   "id": "9b3755b1",
   "metadata": {},
   "outputs": [],
   "source": [
    "s_05_03 = pd.read_csv('dataset/data/sub_05/rec_3.csv')\n",
    "s_05_03.head()"
   ]
  },
  {
   "cell_type": "markdown",
   "id": "0192d9f6",
   "metadata": {},
   "source": [
    "# Corelación entre datos"
   ]
  },
  {
   "cell_type": "markdown",
   "id": "bf8d7f80",
   "metadata": {},
   "source": [
    "## Visualizar correlaciones"
   ]
  },
  {
   "cell_type": "code",
   "execution_count": null,
   "id": "dec873cb",
   "metadata": {},
   "outputs": [],
   "source": [
    "corrs = s_05_03[s_05_03.columns[:18]].corr()\n",
    "datos = s_05_03.iloc[:, :18]\n",
    "sns.heatmap(corrs)\n",
    "sns.pairplot(s_05_03[s_05_03.columns[:18]])"
   ]
  },
  {
   "cell_type": "markdown",
   "id": "cafd8531",
   "metadata": {},
   "source": [
    "## Restar la posición de la pelvis"
   ]
  },
  {
   "cell_type": "code",
   "execution_count": null,
   "id": "8cbf0330",
   "metadata": {},
   "outputs": [],
   "source": [
    "resta = s_05_03.copy()\n",
    "for i in range(3):\n",
    "  resta.iloc[:,3+i:3]-= s_05_03.iloc[:,i:i+1].to_numpy()"
   ]
  },
  {
   "cell_type": "markdown",
   "id": "8f4b1ff6",
   "metadata": {},
   "source": [
    "# Visualizar"
   ]
  },
  {
   "cell_type": "code",
   "execution_count": null,
   "id": "0240f727",
   "metadata": {},
   "outputs": [],
   "source": [
    "def plot_frame(data, i_frame = 0):\n",
    "    fig = plt.figure()\n",
    "    ax = fig.add_subplot(projection='3d')\n",
    "\n",
    "    return fig, ax\n",
    "\n",
    "fig, ax =  plot_frame(s_05_03, 130)\n",
    "plt.show()"
   ]
  },
  {
   "cell_type": "markdown",
   "id": "4e27ad6b",
   "metadata": {},
   "source": [
    "# Ventaneo\n",
    "Dividir los datos en fragmentos de 4 segundos"
   ]
  },
  {
   "cell_type": "code",
   "execution_count": null,
   "id": "3b265d3c",
   "metadata": {},
   "outputs": [],
   "source": [
    "freq =60\n",
    "segundos =4\n",
    "ventana = freq*segundos\n",
    "ventanal = []\n",
    "for i in range (0, len(resta)- ventana+1, ventana):\n",
    "  ventanal.append(resta.iloc[i:i+ventana])\n",
    "ventanal = np.array(ventanal)\n",
    "ventanal.shape()"
   ]
  },
  {
   "cell_type": "markdown",
   "id": "0aed1919",
   "metadata": {},
   "source": [
    "# Normalización"
   ]
  },
  {
   "cell_type": "markdown",
   "id": "8ad1a87a",
   "metadata": {},
   "source": [
    "Normalización de los puntos"
   ]
  },
  {
   "cell_type": "markdown",
   "id": "92de24a5",
   "metadata": {},
   "source": [
    "Normalizar las rutas en cada ventana para asegurarse de que todas empiezan desde la posición x=0, y=0 y z=0."
   ]
  },
  {
   "cell_type": "markdown",
   "id": "50680a20",
   "metadata": {},
   "source": [
    "# Extracción de características"
   ]
  },
  {
   "cell_type": "markdown",
   "id": "db3237a7",
   "metadata": {},
   "source": [
    "## Media"
   ]
  },
  {
   "cell_type": "code",
   "execution_count": null,
   "id": "adc3fd08",
   "metadata": {},
   "outputs": [],
   "source": [
    "ventanal.mean(axis=1)"
   ]
  },
  {
   "cell_type": "markdown",
   "id": "8c0ff12d",
   "metadata": {},
   "source": [
    "## Desviación típica"
   ]
  },
  {
   "cell_type": "code",
   "execution_count": null,
   "id": "37898ef6",
   "metadata": {},
   "outputs": [],
   "source": [
    "ventanal.std(axis=1)"
   ]
  },
  {
   "cell_type": "markdown",
   "id": "9fd0d513",
   "metadata": {},
   "source": [
    "## Mínimo y máximo"
   ]
  },
  {
   "cell_type": "code",
   "execution_count": null,
   "id": "bad3b7a0",
   "metadata": {},
   "outputs": [],
   "source": []
  },
  {
   "cell_type": "markdown",
   "id": "a1b14ac1",
   "metadata": {},
   "source": [
    "## Energía de la señal"
   ]
  },
  {
   "cell_type": "code",
   "execution_count": null,
   "id": "66c11a04",
   "metadata": {},
   "outputs": [],
   "source": []
  },
  {
   "cell_type": "markdown",
   "id": "86b1751d",
   "metadata": {},
   "source": [
    "## Parámetros de Hjorth"
   ]
  },
  {
   "cell_type": "code",
   "execution_count": null,
   "id": "3a95f269",
   "metadata": {},
   "outputs": [],
   "source": []
  },
  {
   "cell_type": "markdown",
   "id": "f2f5d5db",
   "metadata": {},
   "source": [
    "#  Elección de algoritmo"
   ]
  },
  {
   "cell_type": "markdown",
   "id": "41fe9cec",
   "metadata": {},
   "source": [
    "# Interpretación de resultados"
   ]
  }
 ],
 "metadata": {
  "kernelspec": {
   "display_name": "Python 3",
   "language": "python",
   "name": "python3"
  },
  "language_info": {
   "name": "python",
   "version": "3.10.11"
  }
 },
 "nbformat": 4,
 "nbformat_minor": 5
}
